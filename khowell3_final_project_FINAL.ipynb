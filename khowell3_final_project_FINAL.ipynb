{
 "cells": [
  {
   "cell_type": "code",
   "execution_count": 131,
   "metadata": {},
   "outputs": [],
   "source": [
    "import requests\n",
    "from bs4 import BeautifulSoup\n",
    "from lxml import etree\n",
    "import csv"
   ]
  },
  {
   "cell_type": "code",
   "execution_count": 132,
   "metadata": {},
   "outputs": [],
   "source": [
    "r = requests.get('https://www.library.illinois.edu/lis/facpubs/')\n",
    "outfile = open('pubpage.html', 'w', encoding='utf-8')\n",
    "outfile.write(r.text)\n",
    "r.close()\n",
    "outfile.close()"
   ]
  },
  {
   "cell_type": "code",
   "execution_count": 133,
   "metadata": {},
   "outputs": [],
   "source": [
    "infile = open('pubpage.html', 'r')\n",
    "text = infile.read()\n",
    "infile.close()"
   ]
  },
  {
   "cell_type": "code",
   "execution_count": 134,
   "metadata": {},
   "outputs": [],
   "source": [
    "soup = BeautifulSoup(text, 'html')"
   ]
  },
  {
   "cell_type": "code",
   "execution_count": 135,
   "metadata": {},
   "outputs": [],
   "source": [
    "xml = soup.prettify()"
   ]
  },
  {
   "cell_type": "code",
   "execution_count": 136,
   "metadata": {},
   "outputs": [],
   "source": [
    "tree = etree.fromstring(xml)"
   ]
  },
  {
   "cell_type": "code",
   "execution_count": 137,
   "metadata": {},
   "outputs": [
    {
     "name": "stdout",
     "output_type": "stream",
     "text": [
      "[('Hinchliffe, Lisa Janicke', 38), ('Cole, Timothy W', 33), ('Hahn, Jim', 29), ('Laskowski, Mary S', 29), ('Mischo, William H', 28), ('Ward, David', 24), ('Shreeves, Sarah L', 24), ('Hensley, Merinda Kaye', 23), ('Sroka, Marek', 22), ('Rudasill, Lynne M', 21), ('Chrzastowski, Tina E', 20), ('Schlembach, Mary C', 18), ('Szylowicz, Caroline', 18), ('Joseph, Lura E', 17), ('Searing, Susan E', 17), ('Han, Myung-Ja', 17), ('Teper, Thomas H', 17), ('Dougan, Kirstin', 16), ('Prom, Christopher J', 16), ('Avery, Susan', 16), ('Mestre, Lori S', 15), ('Kaufman, Paula T', 15), ('Hotchkiss, Valerie', 15), ('Wiley, Lynn', 13), ('Weible, Cherie L', 13)]  \n"
     ]
    }
   ],
   "source": [
    "names = tree.xpath('//span[@class = \"bold\"]/text()')\n",
    "names = \" \".join(names)\n",
    "names = names.split('\\n')\n",
    "names = \"\".join(names)\n",
    "names = names.split('                    ')\n",
    "del names[0:2]\n",
    "\n",
    "from collections import Counter\n",
    "names_count = Counter(names)\n",
    "# print(len(names_count)) # 312\n",
    "# print(names_count)\n",
    "print(names_count.most_common(25),\" \")"
   ]
  },
  {
   "cell_type": "code",
   "execution_count": 138,
   "metadata": {},
   "outputs": [],
   "source": [
    "outfile = open('names_count.csv', 'w', encoding = 'utf-8', newline = '')\n",
    "csvout = csv.writer(outfile)\n",
    "\n",
    "csvout.writerow(['Full_name', 'count'])\n",
    "\n",
    "for pair in names_count.items():\n",
    "    name = pair[0]\n",
    "    count = pair[1]\n",
    "    row = [name,count]\n",
    "    csvout.writerow(row)"
   ]
  },
  {
   "cell_type": "code",
   "execution_count": 139,
   "metadata": {},
   "outputs": [
    {
     "name": "stdout",
     "output_type": "stream",
     "text": [
      "[('Reference Services Review', 19), ('Library Trends', 16), ('College & Research Libraries', 15), ('portal: Libraries and the Academy', 14), ('Science & Technology Libraries', 14), ('Collection Management', 13), ('Library Hi Tech', 13), ('Cataloging & Classification Quarterly', 12), ('Journal of Academic Librarianship', 11), ('Reference & User Services Quarterly', 11), ('Library Collections, Acquisitions, & Technical Services', 11), ('Journal of Library Administration', 11), ('Research Strategies', 9), ('The Reference Librarian', 8), ('Information Technology and Libraries', 8), ('Reference and Information Services: An Introduction, 3rd ed.,', 8), (\"Bulletin d'informations proustiennes\", 7), ('Library Resources & Technical Services', 7), ('Internet Reference Services Quarterly', 7), ('Science and Technology Libraries', 7), ('Journal of eScience Librarianship', 6), ('Public Services Quarterly', 6), ('Behavioral & Social Sciences Librarian', 6), ('Journal of Library Metadata', 6), ('American Archivist', 6)]  \n"
     ]
    }
   ],
   "source": [
    "pubs = tree.xpath('//cite/text()')\n",
    "pubs = \" \".join(pubs)\n",
    "pubs = pubs.split('\\n')\n",
    "pubs = \"\".join(pubs)\n",
    "pubs = pubs.split('                    ')\n",
    "pubs_count = Counter(pubs)\n",
    "# print(len(pubs_count)) #546\n",
    "# print(pubs_count)\n",
    "print(pubs_count.most_common(25),\" \")"
   ]
  },
  {
   "cell_type": "code",
   "execution_count": 140,
   "metadata": {},
   "outputs": [],
   "source": [
    "outfile = open('pubs_count.csv', 'w', encoding = 'utf-8', newline = '')\n",
    "csvout = csv.writer(outfile)\n",
    "\n",
    "csvout.writerow(['Publication', 'Articles_published_by_UIUC_faculty'])\n",
    "\n",
    "for pair in pubs_count.items():\n",
    "    pub = pair[0]\n",
    "    count = pair[1]\n",
    "    row = [pub,count]\n",
    "    csvout.writerow(row)"
   ]
  },
  {
   "cell_type": "code",
   "execution_count": 141,
   "metadata": {},
   "outputs": [
    {
     "name": "stdout",
     "output_type": "stream",
     "text": [
      "[('.', 988), ('of', 376), ('and', 368), ('the', 343), ('in', 219), ('The', 140), ('In', 139), ('A', 134), ('for', 132), ('to', 108), ('Library', 106), ('a', 82), ('Information', 73), ('&nbsp', 63), ('on', 53), ('Digital', 50), ('Academic', 48), ('Research', 37), ('at', 37), ('by', 36), ('Using', 31), ('University', 29), ('New', 28), ('Libraries', 27), ('Electronic', 27), ('Online', 26), ('Reference', 26), ('International', 25), ('with', 24), ('Use', 24), ('as', 22), ('An', 22), ('edited', 22), ('Services', 21), ('Illinois', 21), ('de', 21), ('Literacy', 21), ('Student', 21), ('Libraries.', 20), ('Study', 20), ('Access', 20), ('Learning', 20), ('ed.', 20), ('Data', 19), ('Study.', 17), ('Metadata', 17), ('Web', 17), ('an', 17), ('Services.', 16), ('Teaching', 16)]  \n"
     ]
    }
   ],
   "source": [
    "import re\n",
    "\n",
    "titles = tree.xpath('//td/p[@class=\"hanging\"]')\n",
    "\n",
    "title_list = []\n",
    "\n",
    "for text in titles:\n",
    "    title_text = text.xpath('./text()')[1]\n",
    "    title_list.append(title_text)\n",
    "\n",
    "del title_list[0:2]\n",
    "title_list = \" \".join(title_list)\n",
    "title_list = re.sub(' +',' ',title_list)\n",
    "title_list = title_list.split('\\n')\n",
    "title_list = \"\".join(title_list)\n",
    "\n",
    "title_list = title_list.split()\n",
    "title_list.remove(\".\")\n",
    "title_words_count = Counter(title_list)\n",
    "# print(len(title_words_count)) #3,612\n",
    "\n",
    "print(title_words_count.most_common(50),\" \")"
   ]
  },
  {
   "cell_type": "code",
   "execution_count": 142,
   "metadata": {},
   "outputs": [],
   "source": [
    "outfile = open('title_words_count.csv', 'w', encoding = 'utf-8', newline = '')\n",
    "csvout = csv.writer(outfile)\n",
    "\n",
    "csvout.writerow(['Word_in__article_title', 'Count'])\n",
    "\n",
    "for pair in title_words_count.items():\n",
    "    title_words = pair[0]\n",
    "    count = pair[1]\n",
    "    row = [title_words,count]\n",
    "    csvout.writerow(row)"
   ]
  }
 ],
 "metadata": {
  "kernelspec": {
   "display_name": "Python 3",
   "language": "python",
   "name": "python3"
  },
  "language_info": {
   "codemirror_mode": {
    "name": "ipython",
    "version": 3
   },
   "file_extension": ".py",
   "mimetype": "text/x-python",
   "name": "python",
   "nbconvert_exporter": "python",
   "pygments_lexer": "ipython3",
   "version": "3.7.4"
  }
 },
 "nbformat": 4,
 "nbformat_minor": 2
}
